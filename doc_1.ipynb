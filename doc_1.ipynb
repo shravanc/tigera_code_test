{
 "cells": [
  {
   "cell_type": "markdown",
   "metadata": {
    "collapsed": true
   },
   "source": [
    "# Machine learning engineering exercise\n",
    "## The goal of this exercise is to apply a machine learning solution to identify if a DNS domain is valid (more accurately user typed) or  auto-generated"
   ]
  },
  {
   "cell_type": "markdown",
   "metadata": {},
   "source": [
    "## Content:\n",
    "\n",
    "- Dataset\n",
    "- Pre-processing\n",
    "- Build Model\n",
    "- Training\n",
    "- Plots\n",
    "- Reference"
   ]
  },
  {
   "cell_type": "markdown",
   "metadata": {},
   "source": [
    "## Dataset\n",
    "\n",
    "- <b>Genuine dataset:</b> Alexa top 0.5 million domains\n",
    "- <b>Malware dataset:</b> Consider four different family from (https://github.com/baderj/domain_generation_algorithms)\n",
    "- <b>Malware families considered:</b> banjori, chinad, corebot and fobber \n"
   ]
  },
  {
   "cell_type": "code",
   "execution_count": 1,
   "metadata": {},
   "outputs": [],
   "source": [
    "from data import get_data, genuine_data, malware_data, gather_data, domain_name_dictionary\n",
    "import pandas as pd"
   ]
  },
  {
   "cell_type": "code",
   "execution_count": 2,
   "metadata": {},
   "outputs": [
    {
     "data": {
      "text/html": [
       "<div>\n",
       "<style scoped>\n",
       "    .dataframe tbody tr th:only-of-type {\n",
       "        vertical-align: middle;\n",
       "    }\n",
       "\n",
       "    .dataframe tbody tr th {\n",
       "        vertical-align: top;\n",
       "    }\n",
       "\n",
       "    .dataframe thead th {\n",
       "        text-align: right;\n",
       "    }\n",
       "</style>\n",
       "<table border=\"1\" class=\"dataframe\">\n",
       "  <thead>\n",
       "    <tr style=\"text-align: right;\">\n",
       "      <th></th>\n",
       "      <th>domain</th>\n",
       "      <th>flag</th>\n",
       "    </tr>\n",
       "  </thead>\n",
       "  <tbody>\n",
       "    <tr>\n",
       "      <th>0</th>\n",
       "      <td>google.com</td>\n",
       "      <td>1</td>\n",
       "    </tr>\n",
       "    <tr>\n",
       "      <th>1</th>\n",
       "      <td>youtube.com</td>\n",
       "      <td>1</td>\n",
       "    </tr>\n",
       "    <tr>\n",
       "      <th>2</th>\n",
       "      <td>tmall.com</td>\n",
       "      <td>1</td>\n",
       "    </tr>\n",
       "    <tr>\n",
       "      <th>3</th>\n",
       "      <td>baidu.com</td>\n",
       "      <td>1</td>\n",
       "    </tr>\n",
       "    <tr>\n",
       "      <th>4</th>\n",
       "      <td>sohu.com</td>\n",
       "      <td>1</td>\n",
       "    </tr>\n",
       "  </tbody>\n",
       "</table>\n",
       "</div>"
      ],
      "text/plain": [
       "        domain  flag\n",
       "0   google.com     1\n",
       "1  youtube.com     1\n",
       "2    tmall.com     1\n",
       "3    baidu.com     1\n",
       "4     sohu.com     1"
      ]
     },
     "execution_count": 2,
     "metadata": {},
     "output_type": "execute_result"
    }
   ],
   "source": [
    "genuine_df = genuine_data()\n",
    "genuine_df.head()"
   ]
  },
  {
   "cell_type": "code",
   "execution_count": 3,
   "metadata": {},
   "outputs": [
    {
     "data": {
      "text/html": [
       "<div>\n",
       "<style scoped>\n",
       "    .dataframe tbody tr th:only-of-type {\n",
       "        vertical-align: middle;\n",
       "    }\n",
       "\n",
       "    .dataframe tbody tr th {\n",
       "        vertical-align: top;\n",
       "    }\n",
       "\n",
       "    .dataframe thead th {\n",
       "        text-align: right;\n",
       "    }\n",
       "</style>\n",
       "<table border=\"1\" class=\"dataframe\">\n",
       "  <thead>\n",
       "    <tr style=\"text-align: right;\">\n",
       "      <th></th>\n",
       "      <th>domain</th>\n",
       "      <th>flag</th>\n",
       "    </tr>\n",
       "  </thead>\n",
       "  <tbody>\n",
       "    <tr>\n",
       "      <th>408750</th>\n",
       "      <td>websitedeveloperzone.com</td>\n",
       "      <td>1</td>\n",
       "    </tr>\n",
       "    <tr>\n",
       "      <th>408751</th>\n",
       "      <td>wewritecontentforyou.com</td>\n",
       "      <td>1</td>\n",
       "    </tr>\n",
       "    <tr>\n",
       "      <th>408752</th>\n",
       "      <td>yourcodercamp.com</td>\n",
       "      <td>1</td>\n",
       "    </tr>\n",
       "    <tr>\n",
       "      <th>408753</th>\n",
       "      <td>zapsend.co</td>\n",
       "      <td>1</td>\n",
       "    </tr>\n",
       "    <tr>\n",
       "      <th>408754</th>\n",
       "      <td>zirconia.co.il</td>\n",
       "      <td>1</td>\n",
       "    </tr>\n",
       "  </tbody>\n",
       "</table>\n",
       "</div>"
      ],
      "text/plain": [
       "                          domain  flag\n",
       "408750  websitedeveloperzone.com     1\n",
       "408751  wewritecontentforyou.com     1\n",
       "408752         yourcodercamp.com     1\n",
       "408753                zapsend.co     1\n",
       "408754            zirconia.co.il     1"
      ]
     },
     "execution_count": 3,
     "metadata": {},
     "output_type": "execute_result"
    }
   ],
   "source": [
    "genuine_df.tail()"
   ]
  },
  {
   "cell_type": "code",
   "execution_count": 4,
   "metadata": {},
   "outputs": [
    {
     "data": {
      "text/html": [
       "<div>\n",
       "<style scoped>\n",
       "    .dataframe tbody tr th:only-of-type {\n",
       "        vertical-align: middle;\n",
       "    }\n",
       "\n",
       "    .dataframe tbody tr th {\n",
       "        vertical-align: top;\n",
       "    }\n",
       "\n",
       "    .dataframe thead th {\n",
       "        text-align: right;\n",
       "    }\n",
       "</style>\n",
       "<table border=\"1\" class=\"dataframe\">\n",
       "  <thead>\n",
       "    <tr style=\"text-align: right;\">\n",
       "      <th></th>\n",
       "      <th>domain</th>\n",
       "      <th>flag</th>\n",
       "    </tr>\n",
       "  </thead>\n",
       "  <tbody>\n",
       "    <tr>\n",
       "      <th>0</th>\n",
       "      <td>vhkintjtksyxgjrzz.net</td>\n",
       "      <td>1</td>\n",
       "    </tr>\n",
       "    <tr>\n",
       "      <th>1</th>\n",
       "      <td>btpnxlsfdqbhzazyx.net</td>\n",
       "      <td>1</td>\n",
       "    </tr>\n",
       "    <tr>\n",
       "      <th>2</th>\n",
       "      <td>ukfmknjdenthvktgc.net</td>\n",
       "      <td>1</td>\n",
       "    </tr>\n",
       "    <tr>\n",
       "      <th>3</th>\n",
       "      <td>qupxsrhrmuoinqrit.net</td>\n",
       "      <td>1</td>\n",
       "    </tr>\n",
       "    <tr>\n",
       "      <th>4</th>\n",
       "      <td>gjsbydmrpfzsmnfiu.net</td>\n",
       "      <td>1</td>\n",
       "    </tr>\n",
       "  </tbody>\n",
       "</table>\n",
       "</div>"
      ],
      "text/plain": [
       "                  domain  flag\n",
       "0  vhkintjtksyxgjrzz.net     1\n",
       "1  btpnxlsfdqbhzazyx.net     1\n",
       "2  ukfmknjdenthvktgc.net     1\n",
       "3  qupxsrhrmuoinqrit.net     1\n",
       "4  gjsbydmrpfzsmnfiu.net     1"
      ]
     },
     "execution_count": 4,
     "metadata": {},
     "output_type": "execute_result"
    }
   ],
   "source": [
    "malware_df = malware_data()\n",
    "malware_df.head()"
   ]
  },
  {
   "cell_type": "code",
   "execution_count": 5,
   "metadata": {},
   "outputs": [
    {
     "data": {
      "text/html": [
       "<div>\n",
       "<style scoped>\n",
       "    .dataframe tbody tr th:only-of-type {\n",
       "        vertical-align: middle;\n",
       "    }\n",
       "\n",
       "    .dataframe tbody tr th {\n",
       "        vertical-align: top;\n",
       "    }\n",
       "\n",
       "    .dataframe thead th {\n",
       "        text-align: right;\n",
       "    }\n",
       "</style>\n",
       "<table border=\"1\" class=\"dataframe\">\n",
       "  <thead>\n",
       "    <tr style=\"text-align: right;\">\n",
       "      <th></th>\n",
       "      <th>domain</th>\n",
       "      <th>flag</th>\n",
       "    </tr>\n",
       "  </thead>\n",
       "  <tbody>\n",
       "    <tr>\n",
       "      <th>995</th>\n",
       "      <td>txszestnessbiophysicalohax.com</td>\n",
       "      <td>1</td>\n",
       "    </tr>\n",
       "    <tr>\n",
       "      <th>996</th>\n",
       "      <td>lrvxestnessbiophysicalohax.com</td>\n",
       "      <td>1</td>\n",
       "    </tr>\n",
       "    <tr>\n",
       "      <th>997</th>\n",
       "      <td>bvosestnessbiophysicalohax.com</td>\n",
       "      <td>1</td>\n",
       "    </tr>\n",
       "    <tr>\n",
       "      <th>998</th>\n",
       "      <td>moskestnessbiophysicalohax.com</td>\n",
       "      <td>1</td>\n",
       "    </tr>\n",
       "    <tr>\n",
       "      <th>999</th>\n",
       "      <td>pdzyestnessbiophysicalohax.com</td>\n",
       "      <td>1</td>\n",
       "    </tr>\n",
       "  </tbody>\n",
       "</table>\n",
       "</div>"
      ],
      "text/plain": [
       "                             domain  flag\n",
       "995  txszestnessbiophysicalohax.com     1\n",
       "996  lrvxestnessbiophysicalohax.com     1\n",
       "997  bvosestnessbiophysicalohax.com     1\n",
       "998  moskestnessbiophysicalohax.com     1\n",
       "999  pdzyestnessbiophysicalohax.com     1"
      ]
     },
     "execution_count": 5,
     "metadata": {},
     "output_type": "execute_result"
    }
   ],
   "source": [
    "malware_df.tail()"
   ]
  },
  {
   "cell_type": "code",
   "execution_count": 6,
   "metadata": {},
   "outputs": [
    {
     "name": "stdout",
     "output_type": "stream",
     "text": [
      "(408755, 2)\n",
      "(4256, 2)\n",
      "(413011, 2)\n"
     ]
    }
   ],
   "source": [
    "df = pd.concat([genuine_df, malware_df])\n",
    "print(genuine_df.shape)\n",
    "print(malware_df.shape)\n",
    "print(df.shape)"
   ]
  },
  {
   "cell_type": "code",
   "execution_count": 7,
   "metadata": {},
   "outputs": [
    {
     "data": {
      "text/plain": [
       "(413011, 2)"
      ]
     },
     "execution_count": 7,
     "metadata": {},
     "output_type": "execute_result"
    }
   ],
   "source": [
    "df = gather_data()\n",
    "df.shape"
   ]
  },
  {
   "cell_type": "markdown",
   "metadata": {},
   "source": [
    "### Tensorflow tf.data.Dataset (https://www.tensorflow.org/api_docs/python/tf/data/Dataset)\n",
    "\n",
    "Advantage: Iteration happens in a streaming fashion, so the full dataset does not need to fit into memory.\n"
   ]
  },
  {
   "cell_type": "code",
   "execution_count": 8,
   "metadata": {},
   "outputs": [],
   "source": [
    "EPOCHS = 10\n",
    "MAX_LENGTH = 100\n",
    "BATCH_SIZE = 64\n",
    "SHUFFLE_BUFFER = 50\n",
    "\n",
    "MODEL_PATH = \"/tmp/models/\""
   ]
  },
  {
   "cell_type": "code",
   "execution_count": 9,
   "metadata": {},
   "outputs": [],
   "source": [
    "train_dataset, valid_dataset = get_data(\n",
    "        max_length=MAX_LENGTH,\n",
    "        batch_size=BATCH_SIZE,\n",
    "        shuffle_buffer=SHUFFLE_BUFFER,\n",
    ")"
   ]
  },
  {
   "cell_type": "code",
   "execution_count": 10,
   "metadata": {},
   "outputs": [],
   "source": [
    "inv_map = {v: k for k, v in domain_name_dictionary.items()}\n",
    "\n",
    "def get_domain_from_sequence(sequence):\n",
    "    domain = \"\"\n",
    "    for num in sequence:\n",
    "        if num != 0:\n",
    "            domain += inv_map[num]\n",
    "    return domain"
   ]
  },
  {
   "cell_type": "code",
   "execution_count": 11,
   "metadata": {},
   "outputs": [
    {
     "name": "stdout",
     "output_type": "stream",
     "text": [
      "Shape of the Text data: batch_size x MAX_LENGTH\n",
      "[64, 100]\n",
      "\n",
      "Shape of Label: batch_size\n",
      "[64]\n",
      "\n",
      "First Data in the first batch of dataset\n",
      "Sequence:  [ 0  0  0  0  0  0  0  0  0  0  0  0  0  0  0  0  0  0  0  0  0  0  0  0\n",
      "  0  0  0  0  0  0  0  0  0  0  0  0  0  0  0  0  0  0  0  0  0  0  0  0\n",
      "  0  0  0  0  0  0  0  0  0  0  0  0  0  0  0  0  0  0  0  0  0  0  0  0\n",
      "  0  0  0  0  0  0  0  0  0  0  0  0 37 23 38 27 29 28 33 34 19 32 12 17\n",
      " 29 12 23 26]\n",
      "Domain for Sequence:  wixmonster.co.il\n",
      "Genuine(1)/Malware(0):  1\n"
     ]
    }
   ],
   "source": [
    "for feature_batch in train_dataset.take(1).as_numpy_iterator():\n",
    "    \n",
    "    print(\"Shape of the Text data: batch_size x MAX_LENGTH\")\n",
    "    print(list(feature_batch[0].shape))\n",
    "    print()\n",
    "    \n",
    "    print(\"Shape of Label: batch_size\")\n",
    "    print(list(feature_batch[1].shape))\n",
    "    print()\n",
    "    \n",
    "    print(\"First Data in the first batch of dataset\")\n",
    "    print(\"Sequence: \", feature_batch[0][0])\n",
    "    print(\"Domain for Sequence: \",get_domain_from_sequence(feature_batch[0][0]))\n",
    "    print(\"Genuine(1)/Malware(0): \", feature_batch[1][0])\n",
    "    \n",
    "    "
   ]
  },
  {
   "cell_type": "markdown",
   "metadata": {},
   "source": [
    "## Pre-processing\n",
    "\n",
    "- Padding is done to all the domains to meet the constant length input to the model.\n",
    "- MAX_LENGTH is used to set the padding.\n",
    "- Defatult padding method is used. That is padding is applied at the begging."
   ]
  },
  {
   "cell_type": "code",
   "execution_count": 12,
   "metadata": {},
   "outputs": [],
   "source": [
    "from data import domain_to_ints, prep_data, prep_dataframe"
   ]
  },
  {
   "cell_type": "code",
   "execution_count": 13,
   "metadata": {},
   "outputs": [
    {
     "data": {
      "text/plain": [
       "{'0': 0,\n",
       " '1': 1,\n",
       " '2': 2,\n",
       " '3': 3,\n",
       " '4': 4,\n",
       " '5': 5,\n",
       " '6': 6,\n",
       " '7': 7,\n",
       " '8': 8,\n",
       " '9': 9,\n",
       " ':': 10,\n",
       " '-': 11,\n",
       " '.': 12,\n",
       " '/': 13,\n",
       " '_': 14,\n",
       " 'a': 15,\n",
       " 'b': 16,\n",
       " 'c': 17,\n",
       " 'd': 18,\n",
       " 'e': 19,\n",
       " 'f': 20,\n",
       " 'g': 21,\n",
       " 'h': 22,\n",
       " 'i': 23,\n",
       " 'j': 24,\n",
       " 'k': 25,\n",
       " 'l': 26,\n",
       " 'm': 27,\n",
       " 'n': 28,\n",
       " 'o': 29,\n",
       " 'p': 30,\n",
       " 'q': 31,\n",
       " 'r': 32,\n",
       " 's': 33,\n",
       " 't': 34,\n",
       " 'u': 35,\n",
       " 'v': 36,\n",
       " 'w': 37,\n",
       " 'x': 38,\n",
       " 'y': 39,\n",
       " 'z': 40,\n",
       " nan: 41}"
      ]
     },
     "execution_count": 13,
     "metadata": {},
     "output_type": "execute_result"
    }
   ],
   "source": [
    "domain_name_dictionary"
   ]
  },
  {
   "cell_type": "markdown",
   "metadata": {},
   "source": [
    "<b>Helper function to convert the characters to ints</b>"
   ]
  },
  {
   "cell_type": "code",
   "execution_count": 14,
   "metadata": {},
   "outputs": [
    {
     "name": "stdout",
     "output_type": "stream",
     "text": [
      "[31]\n",
      "[31, 37, 19, 32, 34, 39]\n",
      "[31, 37, 19, 32, 34, 39, 41, 15]\n"
     ]
    }
   ],
   "source": [
    "print(domain_to_ints(\"q\"))\n",
    "print(domain_to_ints(\"qwerty\"))\n",
    "print(domain_to_ints(\"qwerty$a\"))"
   ]
  },
  {
   "cell_type": "markdown",
   "metadata": {},
   "source": [
    "<b>Helper function to convert entire DataFrame to sequecnes and labels</b>"
   ]
  },
  {
   "cell_type": "code",
   "execution_count": 15,
   "metadata": {},
   "outputs": [],
   "source": [
    "sample_dict = {\n",
    "    \"domain\": [\"tigera.io\", \"github.com\", \"zfdzktxu0h2dhcul.net\"],\n",
    "    \"flag\": [1, 1, 0]\n",
    "}\n",
    "sample_df = pd.DataFrame(sample_dict)"
   ]
  },
  {
   "cell_type": "code",
   "execution_count": 16,
   "metadata": {},
   "outputs": [
    {
     "name": "stdout",
     "output_type": "stream",
     "text": [
      "Sequence: [ 0  0  0  0  0  0  0  0  0  0  0 34 23 21 19 32 15 12 23 29], Domain: tigera.io, Flag: 1\n"
     ]
    }
   ],
   "source": [
    "X, y = prep_dataframe(sample_df, max_length=20)\n",
    "print(f\"Sequence: {X[0]}, Domain: {get_domain_from_sequence(X[0])}, Flag: {y[0]}\")"
   ]
  },
  {
   "cell_type": "markdown",
   "metadata": {},
   "source": [
    "<b>Helper function to convert domain to sequence for a list of domain</b>"
   ]
  },
  {
   "cell_type": "code",
   "execution_count": 17,
   "metadata": {},
   "outputs": [
    {
     "data": {
      "text/plain": [
       "array([[ 0,  0,  0,  0,  0,  0,  0,  0,  0,  0,  0, 34, 23, 21, 19, 32,\n",
       "        15, 12, 23, 29],\n",
       "       [ 0,  0,  0,  0,  0,  0,  0,  0,  0,  0, 21, 23, 34, 22, 35, 16,\n",
       "        12, 17, 29, 27],\n",
       "       [40, 20, 18, 40, 25, 34, 38, 35,  0, 22,  2, 18, 22, 17, 35, 26,\n",
       "        12, 28, 19, 34]], dtype=int32)"
      ]
     },
     "execution_count": 17,
     "metadata": {},
     "output_type": "execute_result"
    }
   ],
   "source": [
    "domains = [\"tigera.io\", \"github.com\", \"zfdzktxu0h2dhcul.net\"]\n",
    "prep_data(domains, max_length=20)"
   ]
  },
  {
   "cell_type": "markdown",
   "metadata": {},
   "source": [
    "## Building Model"
   ]
  },
  {
   "cell_type": "code",
   "execution_count": 18,
   "metadata": {},
   "outputs": [],
   "source": [
    "from main import build_model"
   ]
  },
  {
   "cell_type": "code",
   "execution_count": 19,
   "metadata": {},
   "outputs": [
    {
     "name": "stdout",
     "output_type": "stream",
     "text": [
      "Model: \"model\"\n",
      "_________________________________________________________________\n",
      "Layer (type)                 Output Shape              Param #   \n",
      "=================================================================\n",
      "Input (InputLayer)           [(None, 100)]             0         \n",
      "_________________________________________________________________\n",
      "Embedding (Embedding)        (None, 100, 128)          16384     \n",
      "_________________________________________________________________\n",
      "Conv1 (Conv1D)               (None, 100, 128)          49280     \n",
      "_________________________________________________________________\n",
      "max_pooling1d (MaxPooling1D) (None, 50, 128)           0         \n",
      "_________________________________________________________________\n",
      "Conv2 (Conv1D)               (None, 50, 128)           32896     \n",
      "_________________________________________________________________\n",
      "max_pooling1d_1 (MaxPooling1 (None, 25, 128)           0         \n",
      "_________________________________________________________________\n",
      "flatten (Flatten)            (None, 3200)              0         \n",
      "_________________________________________________________________\n",
      "dense (Dense)                (None, 64)                204864    \n",
      "_________________________________________________________________\n",
      "dropout (Dropout)            (None, 64)                0         \n",
      "_________________________________________________________________\n",
      "dense_1 (Dense)              (None, 1)                 65        \n",
      "=================================================================\n",
      "Total params: 303,489\n",
      "Trainable params: 303,489\n",
      "Non-trainable params: 0\n",
      "_________________________________________________________________\n"
     ]
    }
   ],
   "source": [
    "model = build_model()\n",
    "model.summary()"
   ]
  },
  {
   "cell_type": "markdown",
   "metadata": {},
   "source": [
    "### The above model is a CNN based Architecture using 1D Convolution Layer\n",
    "\n",
    "- Input layer takes integer matrix of size (batch_zise, max_length). Each charater corresponds to a feature column.\n",
    "- Embedding Layer: The role of the embedding layer is to learn to represent each character that can occur in a domain name by a 128 dimensional numerical vector. This layer takes the integer-encoded domain name and looks up an embedding vector for each character in the domain. These vectors are learned as the model trains.\n",
    "- Two convolution layer with 128 filters is used along with MaxPoolLayer which returns a fixed-length output vector for each example by averaging over the sequence dimension. \n",
    "- Dropout is used to improve the model performance and overcome overfitting by randomly excluding nodes during training.\n",
    "- Finally a fully connected Dense layer with single node output with sigmoid activation function."
   ]
  },
  {
   "cell_type": "markdown",
   "metadata": {},
   "source": [
    "## Training Model"
   ]
  },
  {
   "cell_type": "code",
   "execution_count": 20,
   "metadata": {},
   "outputs": [],
   "source": [
    "from main import train"
   ]
  },
  {
   "cell_type": "code",
   "execution_count": 21,
   "metadata": {},
   "outputs": [
    {
     "name": "stdout",
     "output_type": "stream",
     "text": [
      "Epoch 1/10\n",
      "WARNING:tensorflow:AutoGraph could not transform <function Model.make_train_function.<locals>.train_function at 0x130e4d700> and will run it as-is.\n",
      "Please report this to the TensorFlow team. When filing the bug, set the verbosity to 10 (on Linux, `export AUTOGRAPH_VERBOSITY=10`) and attach the full output.\n",
      "Cause: unsupported operand type(s) for -: 'NoneType' and 'int'\n",
      "To silence this warning, decorate the function with @tf.autograph.experimental.do_not_convert\n",
      "WARNING: AutoGraph could not transform <function Model.make_train_function.<locals>.train_function at 0x130e4d700> and will run it as-is.\n",
      "Please report this to the TensorFlow team. When filing the bug, set the verbosity to 10 (on Linux, `export AUTOGRAPH_VERBOSITY=10`) and attach the full output.\n",
      "Cause: unsupported operand type(s) for -: 'NoneType' and 'int'\n",
      "To silence this warning, decorate the function with @tf.autograph.experimental.do_not_convert\n",
      "   5/5486 [..............................] - ETA: 1:16 - loss: 0.4174 - mae: 0.3161 - mean_squared_error: 0.1357 - acc: 0.7717 "
     ]
    },
    {
     "name": "stderr",
     "output_type": "stream",
     "text": [
      "2021-07-18 18:41:18.700747: I tensorflow/compiler/mlir/mlir_graph_optimization_pass.cc:116] None of the MLIR optimization passes are enabled (registered 2)\n",
      "2021-07-18 18:41:18.702255: W tensorflow/core/platform/profile_utils/cpu_utils.cc:126] Failed to get CPU frequency: 0 Hz\n"
     ]
    },
    {
     "name": "stdout",
     "output_type": "stream",
     "text": [
      "5484/5486 [============================>.] - ETA: 0s - loss: 0.0018 - mae: 0.0014 - mean_squared_error: 5.5022e-04 - acc: 0.9992WARNING:tensorflow:AutoGraph could not transform <function Model.make_test_function.<locals>.test_function at 0x122196280> and will run it as-is.\n",
      "Please report this to the TensorFlow team. When filing the bug, set the verbosity to 10 (on Linux, `export AUTOGRAPH_VERBOSITY=10`) and attach the full output.\n",
      "Cause: unsupported operand type(s) for -: 'NoneType' and 'int'\n",
      "To silence this warning, decorate the function with @tf.autograph.experimental.do_not_convert\n",
      "WARNING: AutoGraph could not transform <function Model.make_test_function.<locals>.test_function at 0x122196280> and will run it as-is.\n",
      "Please report this to the TensorFlow team. When filing the bug, set the verbosity to 10 (on Linux, `export AUTOGRAPH_VERBOSITY=10`) and attach the full output.\n",
      "Cause: unsupported operand type(s) for -: 'NoneType' and 'int'\n",
      "To silence this warning, decorate the function with @tf.autograph.experimental.do_not_convert\n",
      "5486/5486 [==============================] - 75s 14ms/step - loss: 0.0018 - mae: 0.0014 - mean_squared_error: 5.4996e-04 - acc: 0.9992 - val_loss: 0.0000e+00 - val_mae: 0.0000e+00 - val_mean_squared_error: 0.0000e+00 - val_acc: 1.0000\n",
      "Epoch 2/10\n",
      "5486/5486 [==============================] - 74s 14ms/step - loss: 0.0000e+00 - mae: 0.0000e+00 - mean_squared_error: 0.0000e+00 - acc: 1.0000 - val_loss: 0.0000e+00 - val_mae: 0.0000e+00 - val_mean_squared_error: 0.0000e+00 - val_acc: 1.0000\n",
      "Epoch 3/10\n",
      "5486/5486 [==============================] - 75s 14ms/step - loss: 0.0000e+00 - mae: 0.0000e+00 - mean_squared_error: 0.0000e+00 - acc: 1.0000 - val_loss: 0.0000e+00 - val_mae: 0.0000e+00 - val_mean_squared_error: 0.0000e+00 - val_acc: 1.0000\n",
      "Epoch 4/10\n",
      "5486/5486 [==============================] - 75s 14ms/step - loss: 0.0000e+00 - mae: 0.0000e+00 - mean_squared_error: 0.0000e+00 - acc: 1.0000 - val_loss: 0.0000e+00 - val_mae: 0.0000e+00 - val_mean_squared_error: 0.0000e+00 - val_acc: 1.0000\n",
      "Epoch 5/10\n",
      "5486/5486 [==============================] - 7331s 1s/step - loss: 0.0000e+00 - mae: 0.0000e+00 - mean_squared_error: 0.0000e+00 - acc: 1.0000 - val_loss: 0.0000e+00 - val_mae: 0.0000e+00 - val_mean_squared_error: 0.0000e+00 - val_acc: 1.0000\n",
      "Epoch 6/10\n",
      "5486/5486 [==============================] - 77s 14ms/step - loss: 0.0000e+00 - mae: 0.0000e+00 - mean_squared_error: 0.0000e+00 - acc: 1.0000 - val_loss: 0.0000e+00 - val_mae: 0.0000e+00 - val_mean_squared_error: 0.0000e+00 - val_acc: 1.0000\n",
      "WARNING:tensorflow:AutoGraph could not transform <function canonicalize_signatures.<locals>.signature_wrapper at 0x13624ac10> and will run it as-is.\n",
      "Please report this to the TensorFlow team. When filing the bug, set the verbosity to 10 (on Linux, `export AUTOGRAPH_VERBOSITY=10`) and attach the full output.\n",
      "Cause: unsupported operand type(s) for -: 'NoneType' and 'int'\n",
      "To silence this warning, decorate the function with @tf.autograph.experimental.do_not_convert\n",
      "WARNING: AutoGraph could not transform <function canonicalize_signatures.<locals>.signature_wrapper at 0x13624ac10> and will run it as-is.\n",
      "Please report this to the TensorFlow team. When filing the bug, set the verbosity to 10 (on Linux, `export AUTOGRAPH_VERBOSITY=10`) and attach the full output.\n",
      "Cause: unsupported operand type(s) for -: 'NoneType' and 'int'\n",
      "To silence this warning, decorate the function with @tf.autograph.experimental.do_not_convert\n"
     ]
    },
    {
     "name": "stderr",
     "output_type": "stream",
     "text": [
      "/Users/shravan/tensorflow_macos_venv/lib/python3.8/site-packages/tensorflow/python/keras/engine/training.py:2325: UserWarning: `Model.state_updates` will be removed in a future version. This property should not be used in TensorFlow 2.0, as `updates` are applied automatically.\n",
      "  warnings.warn('`Model.state_updates` will be removed in a future version. '\n",
      "2021-07-18 20:49:46.152673: W tensorflow/python/util/util.cc:348] Sets are not currently considered sequences, but this may change in the future, so consider avoiding using them.\n",
      "/Users/shravan/tensorflow_macos_venv/lib/python3.8/site-packages/tensorflow/python/keras/engine/base_layer.py:1397: UserWarning: `layer.updates` will be removed in a future version. This property should not be used in TensorFlow 2.0, as `updates` are applied automatically.\n",
      "  warnings.warn('`layer.updates` will be removed in a future version. '\n"
     ]
    },
    {
     "name": "stdout",
     "output_type": "stream",
     "text": [
      "WARNING:tensorflow:FOR KERAS USERS: The object that you are saving contains one or more Keras models or layers. If you are loading the SavedModel with `tf.keras.models.load_model`, continue reading (otherwise, you may ignore the following instructions). Please change your code to save with `tf.keras.models.save_model` or `model.save`, and confirm that the file \"keras.metadata\" exists in the export directory. In the future, Keras will only load the SavedModels that have this file. In other words, `tf.saved_model.save` will no longer write SavedModels that can be recovered as Keras models (this will apply in TF 2.5).\n",
      "\n",
      "FOR DEVS: If you are overwriting _tracking_metadata in your class, this property has been used to save metadata in the SavedModel. The metadta field will be deprecated soon, so please move the metadata to a different file.\n",
      "INFO:tensorflow:Assets written to: /tmp/models/assets\n"
     ]
    }
   ],
   "source": [
    "history = train(\n",
    "        train_dataset,\n",
    "        valid_dataset,\n",
    "    )"
   ]
  },
  {
   "cell_type": "markdown",
   "metadata": {},
   "source": [
    "## Plots"
   ]
  },
  {
   "cell_type": "code",
   "execution_count": 22,
   "metadata": {},
   "outputs": [],
   "source": [
    "import matplotlib\n",
    "import numpy as np\n",
    "import matplotlib.pyplot as plt\n",
    "%matplotlib inline  "
   ]
  },
  {
   "cell_type": "code",
   "execution_count": 23,
   "metadata": {},
   "outputs": [],
   "source": [
    "from data import plot_curve_v2"
   ]
  },
  {
   "cell_type": "code",
   "execution_count": 25,
   "metadata": {},
   "outputs": [
    {
     "data": {
      "image/png": "[encoded data removed]",
      "text/plain": [
       "<Figure size 1080x720 with 1 Axes>"
      ]
     },
     "metadata": {
      "needs_background": "light"
     },
     "output_type": "display_data"
    }
   ],
   "source": [
    "plot_curve_v2(history, 'acc')"
   ]
  },
  {
   "cell_type": "markdown",
   "metadata": {},
   "source": [
    "## Reference"
   ]
  },
  {
   "cell_type": "markdown",
   "metadata": {},
   "source": [
    "http://faculty.washington.edu/mdecock/papers/byu2018a.pdf\n",
    "https://www.tensorflow.org/tutorials/keras/text_classification\n",
    "https://www.tensorflow.org/text/guide/word_embeddings#using_the_embedding_layer\n",
    "https://www.tensorflow.org/api_docs/python/tf/keras/layers/MaxPool1D\n",
    "https://www.tensorflow.org/responsible_ai/fairness_indicators/tutorials/Fairness_Indicators_TFCO_Wiki_Case_Study"
   ]
  },
  {
   "cell_type": "code",
   "execution_count": null,
   "metadata": {},
   "outputs": [],
   "source": []
  }
 ],
 "metadata": {
  "kernelspec": {
   "display_name": "Python 3 (ipykernel)",
   "language": "python",
   "name": "python3"
  },
  "language_info": {
   "codemirror_mode": {
    "name": "ipython",
    "version": 3
   },
   "file_extension": ".py",
   "mimetype": "text/x-python",
   "name": "python",
   "nbconvert_exporter": "python",
   "pygments_lexer": "ipython3",
   "version": "3.8.11"
  }
 },
 "nbformat": 4,
 "nbformat_minor": 1
}
